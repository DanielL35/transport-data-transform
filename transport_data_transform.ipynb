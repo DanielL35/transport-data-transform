{
 "cells": [
  {
   "cell_type": "markdown",
   "id": "9354c958-ddef-4d2d-822e-eea765432790",
   "metadata": {},
   "source": [
    "### Follow these steps to convert your file:\n",
    "\n",
    "1. Move your file in the \"input_file\" directory\n",
    "2. Click on \"Run\" and select \"Run all cells\"\n",
    "3. Type the name of your file in the input mask that appears below the second cell (don't add the file extension .csv)\n",
    "4. Find your converted file in the output folder"
   ]
  },
  {
   "cell_type": "code",
   "execution_count": 1,
   "id": "ca4cfd42",
   "metadata": {},
   "outputs": [],
   "source": [
    "# all of the libraries are pre-installed\n",
    "# --> no need to pip-install anything\n",
    "import pandas as pd\n",
    "import numpy as np\n",
    "from datetime import datetime\n",
    "import pathlib\n",
    "from pathlib import Path\n"
   ]
  },
  {
   "cell_type": "code",
   "execution_count": 2,
   "id": "773a2b93",
   "metadata": {},
   "outputs": [
    {
     "name": "stdin",
     "output_type": "stream",
     "text": [
      "Type in input file name without file extension:  Sample Travel data\n"
     ]
    },
    {
     "name": "stdout",
     "output_type": "stream",
     "text": [
      "Your file path: /Users/Daniel/portfolio_projects/carbon-accounting-data-input/transport-data-transform/input_files/Sample Travel data.csv\n"
     ]
    }
   ],
   "source": [
    "#import input data\n",
    "#determine path\n",
    "path = pathlib.Path().resolve()\n",
    "#Input from the user\n",
    "filename = input(\"Type in input file name without file extension: \")\n",
    "#then we process the input file, make the Path + .txt\n",
    "input_file = filename + '.csv'\n",
    "#create input file path based on the file name given by the user\n",
    "input_file_path = Path(path) / 'input_files' / input_file\n",
    "print(f\"Your file path: {input_file_path}\")"
   ]
  },
  {
   "cell_type": "markdown",
   "id": "2658317b-0057-463f-9751-598dfaaabc76",
   "metadata": {},
   "source": [
    "### import the csv files"
   ]
  },
  {
   "cell_type": "code",
   "execution_count": 3,
   "id": "3aeadd98-291d-43ff-a434-2b1cb0e60e3d",
   "metadata": {},
   "outputs": [],
   "source": [
    "# read in the Plan A template for transport\n",
    "df_template = pd.read_csv(\"business_travel_template.csv\", sep=\";\")"
   ]
  },
  {
   "cell_type": "code",
   "execution_count": 4,
   "id": "ae30798f-e69d-4687-a703-58789cc16df2",
   "metadata": {},
   "outputs": [],
   "source": [
    "# read in the data from the customer\n",
    "df_or = pd.read_csv(input_file_path,\n",
    "                    parse_dates=['Start date', 'End date'])\n"
   ]
  },
  {
   "cell_type": "markdown",
   "id": "9ae83a8b-09f7-4bf9-99b7-0a956ac8c421",
   "metadata": {},
   "source": [
    "# perform a mini exploratory data analysis"
   ]
  },
  {
   "cell_type": "code",
   "execution_count": 7,
   "id": "f6ec8d47-4255-43d4-934e-4ca2c73be270",
   "metadata": {},
   "outputs": [
    {
     "name": "stdout",
     "output_type": "stream",
     "text": [
      "csv size: (55, 13)\n",
      "columns: ['Booking description', 'Service', 'Departure airport code', 'Arrival airport code', 'Cabin class', 'Drop-off city', 'Pick-up city', 'End date', 'Start date', 'Distance', 'Itinerary Type', 'Departure Train Station', 'Arrival Train Station']\n",
      "services: Service\n",
      "FlexiPerk Trips Service     1\n",
      "Flights                     6\n",
      "Hotels                      9\n",
      "Other Service              10\n",
      "Premium Service            16\n",
      "Refund for hotel            1\n",
      "Trains                     12\n",
      "Name: Service, dtype: int64\n"
     ]
    }
   ],
   "source": [
    "# this cell is optional\n",
    "print(f'csv size: {df_or.shape}')\n",
    "print(f\"columns: {list(df_or.columns)}\")\n",
    "print(f\"services: {df_or.groupby(['Service'])['Service'].count()}\")"
   ]
  },
  {
   "cell_type": "code",
   "execution_count": 6,
   "id": "97933e81-ec5c-4d95-8e4f-574361adf8ce",
   "metadata": {},
   "outputs": [],
   "source": [
    "# for testing purpose only\n",
    "# delete an airport code\n",
    "#df_or.loc[0,\"Arrival airport code\"] = np.nan\n",
    "#df_or.head(5)\n"
   ]
  },
  {
   "cell_type": "markdown",
   "id": "5a97390a-d51e-4a90-89ec-b33885c669ca",
   "metadata": {},
   "source": [
    "# convert return trips to two individual trips"
   ]
  },
  {
   "cell_type": "code",
   "execution_count": 8,
   "id": "9f25bd16-0403-4dcf-812a-6822f7b73050",
   "metadata": {},
   "outputs": [],
   "source": [
    "# first, identify all return trips based on the key word \"return\"\n",
    "returns = df_or.loc[df_or['Itinerary Type'] == 'return'].copy()\n",
    "# swap the airport codes\n",
    "airport_codes = ['Departure airport code', 'Arrival airport code']\n",
    "returns = returns.rename(columns={\n",
    "    airport_codes[0]: airport_codes[1],\n",
    "    airport_codes[1]: airport_codes[0]})\n",
    "# swap train stations\n",
    "train_stations = ['Departure Train Station', 'Arrival Train Station']\n",
    "returns = returns.rename(columns={\n",
    "    train_stations[0]: train_stations[1],\n",
    "    train_stations[1]: train_stations[0]})\n",
    "#  make the arrival date to new departure date\n",
    "travel_dates = ['End date', 'Start date']\n",
    "returns = returns.rename(columns={\n",
    "    travel_dates[0]: travel_dates[1],\n",
    "    travel_dates[1]: travel_dates[0]})\n",
    "# # stack the two DataFrames returns and the original data frame\n",
    "df_or = pd.concat([df_or, returns], ignore_index=True, axis=0)"
   ]
  },
  {
   "cell_type": "markdown",
   "id": "933e365f-1209-4850-99e3-721dc3ac9268",
   "metadata": {},
   "source": [
    "# create a data frame with all flights"
   ]
  },
  {
   "cell_type": "code",
   "execution_count": 9,
   "id": "0beb9af2-5d90-4842-b4f4-b136377606fa",
   "metadata": {},
   "outputs": [],
   "source": [
    "# FLIGHTS\n",
    "# filter by flights\n",
    "flights_or = df_or.loc[(df_or[\"Service\"] == \"Flights\")]\n",
    "# create a new data frame according to the template\n",
    "flights = pd.DataFrame(\n",
    "    np.nan, index=range(len(flights_or)), columns=df_template.columns)\n",
    "# add the booking description\n",
    "flights.loc[:, \"Transport type\"] = \"Flight\"\n",
    "# add the departure date\n",
    "flights.loc[:, \"Departure date\"] = flights_or[\n",
    "    \"Start date\"].reset_index(drop=True)\n",
    "# add the cabin classes\n",
    "flights.loc[\n",
    "    :, \"Flight classes (Economy / Business / First / Unknown)\"] = flights_or[\n",
    "        \"Cabin class\"].reset_index(drop=True)\n",
    "# rename the flight classes to the correct key word\n",
    "# TODO! key words in client's data for Business and First unknown at this point\n",
    "flights.loc[\n",
    "    :, \"Flight classes (Economy / Business / First / Unknown)\"].replace(\n",
    "    {\"economy\": \"Economy\"}, inplace=True)\n",
    "# fill empty ones with unknown\n",
    "flights.loc[\n",
    "    :, \"Flight classes (Economy / Business / First / Unknown)\"].fillna(\n",
    "    \"Unknown\", inplace=True)\n",
    "# add airport code for departure\n",
    "flights.loc[\n",
    "    :, \"Origin Location (Flight / Road / Rail)\"] = flights_or[\n",
    "        \"Departure airport code\"].reset_index(drop=True)\n",
    "# add airport code for destination\n",
    "flights.loc[\n",
    "    :, \"Destination Location (Flight / Road / Rail)\"] = flights_or[\n",
    "        \"Arrival airport code\"].reset_index(drop=True)\n",
    "# test if all airport codes are available\n",
    "assert flights.loc[:, [\"Origin Location (Flight / Road / Rail)\",\n",
    "                   \"Destination Location (Flight / Road / Rail)\"]\n",
    "               ].notna().all().all(), \"Airport codes incomplete.\"\n"
   ]
  },
  {
   "cell_type": "markdown",
   "id": "573a7615-ed01-4ea5-8238-d36e9452aa4f",
   "metadata": {},
   "source": [
    "## create a data frame with all train rides"
   ]
  },
  {
   "cell_type": "code",
   "execution_count": 10,
   "id": "1ac6402f-47c4-4669-837d-6ae8f9ba551b",
   "metadata": {},
   "outputs": [],
   "source": [
    "# filter by rail\n",
    "rail_or = df_or.loc[(df_or[\"Service\"] == \"Trains\")]\n",
    "# create a new data frame according to the template\n",
    "rail = pd.DataFrame(\n",
    "    np.nan, index=range(len(rail_or)), columns=df_template.columns)\n",
    "# add the booking description\n",
    "rail.loc[:, \"Transport type\"] = \"Rail\"\n",
    "# add the departure date\n",
    "rail.loc[:, \"Departure date\"] = rail_or[\"Start date\"].reset_index(drop=True)\n",
    "# add train station for departure\n",
    "rail.loc[:, \"Origin Location (Flight / Road / Rail)\"] = rail_or[\n",
    "    \"Departure Train Station\"].reset_index(drop=True)\n",
    "# add train station for destination\n",
    "rail.loc[:, \"Destination Location (Flight / Road / Rail)\"] = rail_or[\n",
    "    \"Arrival Train Station\"].reset_index(drop=True)\n",
    "# test if all train stations are available\n",
    "assert rail.loc[:, [\"Origin Location (Flight / Road / Rail)\",\n",
    "                \"Destination Location (Flight / Road / Rail)\"]\n",
    "            ].notna().all().all(), \"Train stations codes incomplete\"\n"
   ]
  },
  {
   "cell_type": "markdown",
   "id": "c0ac3d26-7336-4177-931d-371e85974956",
   "metadata": {},
   "source": [
    "### concatenate the data frames for flights and rail"
   ]
  },
  {
   "cell_type": "code",
   "execution_count": 34,
   "id": "91f996a8-3f8c-47a9-8990-ed922d05863a",
   "metadata": {},
   "outputs": [],
   "source": [
    "# %% stack the data frames for flights and rail\n",
    "df = pd.concat([flights, rail], ignore_index=True, axis=0)\n",
    "# test if departure dates are complete\n",
    "assert df.loc[:, \"Departure date\"].notna().all(), \" Departure dates incomplete!\""
   ]
  },
  {
   "cell_type": "markdown",
   "id": "7063150a-f7b4-4a96-9072-571de04662d3",
   "metadata": {},
   "source": [
    "### adjust the format to match the template"
   ]
  },
  {
   "cell_type": "code",
   "execution_count": 35,
   "id": "6a5d950a-6164-4002-a3e7-d8a377eda5aa",
   "metadata": {},
   "outputs": [],
   "source": [
    "# sort by date\n",
    "df.sort_values(by='Departure date', inplace = True)\n",
    "# set all passenger per trip to one\n",
    "df['Number of employees'].fillna(int(1), inplace=True)\n",
    "# adjust date formate\n",
    "df['Departure date'] = df['Departure date'].dt.strftime('%Y-%m-%d')\n",
    "# add the explanation row\n",
    "s = df_template.iloc[0,:]\n",
    "df = pd.concat([s.to_frame().T, df], ignore_index=True, axis=0)"
   ]
  },
  {
   "cell_type": "markdown",
   "id": "d06a4ea8-5222-4bcc-b0b6-173b1a2c1fc8",
   "metadata": {},
   "source": [
    "### save the csv file in the output directory"
   ]
  },
  {
   "cell_type": "code",
   "execution_count": 36,
   "id": "66bbb614-c972-4acb-9e72-2a6ddfcd2b5f",
   "metadata": {},
   "outputs": [
    {
     "name": "stdout",
     "output_type": "stream",
     "text": [
      "csv saved to Sample Travel data_converted_2023_06_05_20_51_52.csv\n"
     ]
    }
   ],
   "source": [
    "# %% save csv\n",
    "# create a unique name containing the current time and the original filename\n",
    "now = datetime.now().strftime(\"%Y_%m_%d_%H_%M_%S\")\n",
    "output_file = f\"{filename}_converted_{now}.csv\"#.replace(\" \", \"_\")\n",
    "output_file_path = Path(path) / 'output_files' / output_file\n",
    "# save the csv\n",
    "df.to_csv(output_file_path, index=False)\n",
    "print(f\"csv saved to {output_file}\")"
   ]
  },
  {
   "cell_type": "markdown",
   "id": "fff838a5-a24f-4233-a585-5b1efbad66a8",
   "metadata": {},
   "source": [
    "### 2 dos\n",
    "#### change to inplace operator\n",
    "#### lint"
   ]
  },
  {
   "cell_type": "code",
   "execution_count": null,
   "id": "cb127981-4825-48c1-946d-c837dee4fc7b",
   "metadata": {},
   "outputs": [],
   "source": []
  }
 ],
 "metadata": {
  "kernelspec": {
   "display_name": "Python 3 (ipykernel)",
   "language": "python",
   "name": "python3"
  },
  "language_info": {
   "codemirror_mode": {
    "name": "ipython",
    "version": 3
   },
   "file_extension": ".py",
   "mimetype": "text/x-python",
   "name": "python",
   "nbconvert_exporter": "python",
   "pygments_lexer": "ipython3",
   "version": "3.9.13"
  }
 },
 "nbformat": 4,
 "nbformat_minor": 5
}
