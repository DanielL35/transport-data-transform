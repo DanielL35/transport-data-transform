{
 "cells": [
  {
   "cell_type": "markdown",
   "id": "9354c958-ddef-4d2d-822e-eea765432790",
   "metadata": {},
   "source": [
    "# Make sure you are using the latest version of this script. Check here if there have been any changes since your last download: github\n",
    "\n",
    "# 1. In the file browser (left) navigate to the directory with the file you would like to convert\n",
    "# 2. Right-click on the file and select \"Copy Path\"\n",
    "# 3. Insert the path in the next cell (don't add the file extension .csv)\n",
    "# 4. Click on \"Run\" and select \"Run all cells\" . The transformed CSV will be saved in the same directory. If it crashes, message Daniel ;) "
   ]
  },
  {
   "cell_type": "code",
   "execution_count": 29,
   "id": "2f0b1a10-129c-42d5-ba70-7003b8280bce",
   "metadata": {},
   "outputs": [],
   "source": [
    "filename = \"C:/Users/Daniel.Busch/OneDrive - wwfgermany/Dokumente/data science/pilot/case_study/Sample Travel data\"\n"
   ]
  },
  {
   "cell_type": "markdown",
   "id": "2658317b-0057-463f-9751-598dfaaabc76",
   "metadata": {},
   "source": [
    "# read in the libraries and file"
   ]
  },
  {
   "cell_type": "code",
   "execution_count": 30,
   "id": "9433a029-afec-4e0b-a040-e9de5917efba",
   "metadata": {
    "tags": []
   },
   "outputs": [],
   "source": [
    "# all of the libraries are pre-installed\n",
    "# --> no need to pip-install anything\n",
    "import pandas as pd\n",
    "import numpy as np\n",
    "import time\n",
    "from datetime import datetime\n",
    "import logging\n",
    "\n",
    "# measure the time to assess the computation time\n",
    "start = time.time()"
   ]
  },
  {
   "cell_type": "code",
   "execution_count": 31,
   "id": "3aeadd98-291d-43ff-a434-2b1cb0e60e3d",
   "metadata": {},
   "outputs": [],
   "source": [
    "# read in the Plan A template for transport\n",
    "df_template = pd.read_csv(\"C:/Users/Daniel.Busch/OneDrive - wwfgermany/Dokumente/data science/pilot/case_study/business_travel_template.csv\", sep=\";\")"
   ]
  },
  {
   "cell_type": "code",
   "execution_count": 32,
   "id": "ae30798f-e69d-4687-a703-58789cc16df2",
   "metadata": {},
   "outputs": [],
   "source": [
    "# read in the data from the customer\n",
    "df_or = pd.read_csv(f\"{filename}.csv\",\n",
    "                    parse_dates=['Start date', 'End date'])"
   ]
  },
  {
   "cell_type": "markdown",
   "id": "9ae83a8b-09f7-4bf9-99b7-0a956ac8c421",
   "metadata": {},
   "source": [
    "# perform a mini exploratory data analysis"
   ]
  },
  {
   "cell_type": "code",
   "execution_count": 33,
   "id": "f6ec8d47-4255-43d4-934e-4ca2c73be270",
   "metadata": {},
   "outputs": [
    {
     "name": "stdout",
     "output_type": "stream",
     "text": [
      "csv size: (55, 13)\n",
      "columns: ['Booking description', 'Service', 'Departure airport code', 'Arrival airport code', 'Cabin class', 'Drop-off city', 'Pick-up city', 'End date', 'Start date', 'Distance', 'Itinerary Type', 'Departure Train Station', 'Arrival Train Station']\n",
      "services: Service\n",
      "FlexiPerk Trips Service     1\n",
      "Flights                     6\n",
      "Hotels                      9\n",
      "Other Service              10\n",
      "Premium Service            16\n",
      "Refund for hotel            1\n",
      "Trains                     12\n",
      "Name: Service, dtype: int64\n"
     ]
    }
   ],
   "source": [
    "\n",
    "print(f'csv size: {df_or.shape}')\n",
    "print(f\"columns: {list(df_or.columns)}\")\n",
    "print(f\"services: {df_or.groupby(['Service'])['Service'].count()}\")"
   ]
  },
  {
   "cell_type": "markdown",
   "id": "5a97390a-d51e-4a90-89ec-b33885c669ca",
   "metadata": {},
   "source": [
    "# convert return trips to two individual trips"
   ]
  },
  {
   "cell_type": "code",
   "execution_count": 34,
   "id": "9f25bd16-0403-4dcf-812a-6822f7b73050",
   "metadata": {},
   "outputs": [],
   "source": [
    "# first, identify all return trips based on the key word \"return\"\n",
    "returns = df_or.loc[df_or['Itinerary Type'] == 'return'].copy()\n",
    "# swap the airport codes\n",
    "airport_codes = ['Departure airport code', 'Arrival airport code']\n",
    "returns = returns.rename(columns={\n",
    "    airport_codes[0]: airport_codes[1],\n",
    "    airport_codes[1]: airport_codes[0]})\n",
    "# swap train stations\n",
    "train_stations = ['Departure Train Station', 'Arrival Train Station']\n",
    "returns = returns.rename(columns={\n",
    "    train_stations[0]: train_stations[1],\n",
    "    train_stations[1]: train_stations[0]})\n",
    "#  make the arrival date to new departure date\n",
    "travel_dates = ['End date', 'Start date']\n",
    "returns = returns.rename(columns={\n",
    "    travel_dates[0]: travel_dates[1],\n",
    "    travel_dates[1]: travel_dates[0]})\n",
    "# # stack the two DataFrames returns and the original data frame\n",
    "df_or = pd.concat([df_or, returns], ignore_index=True, axis=0)\n"
   ]
  },
  {
   "cell_type": "markdown",
   "id": "933e365f-1209-4850-99e3-721dc3ac9268",
   "metadata": {},
   "source": [
    "# create a data frame with all flights"
   ]
  },
  {
   "cell_type": "code",
   "execution_count": 35,
   "id": "0beb9af2-5d90-4842-b4f4-b136377606fa",
   "metadata": {},
   "outputs": [],
   "source": [
    "# FLIGHTS\n",
    "# filter by flights\n",
    "flights_or = df_or.loc[(df_or[\"Service\"] == \"Flights\")]\n",
    "# create a new data frame according to the template\n",
    "flights = pd.DataFrame(\n",
    "    np.nan, index=range(len(flights_or)), columns=df_template.columns)\n",
    "# add the booking description\n",
    "flights.loc[:, \"Transport type\"] = \"Flight\"\n",
    "# add the departure date\n",
    "flights.loc[:, \"Departure date\"] = flights_or[\n",
    "    \"Start date\"].reset_index(drop=True)\n",
    "# add the cabin classes\n",
    "flights.loc[\n",
    "    :, \"Flight classes (Economy / Business / First / Unknown)\"] = flights_or[\n",
    "        \"Cabin class\"].reset_index(drop=True)\n",
    "# rename the flight classes to the correct key word\n",
    "# TODO! key words in client's data for Business and First unknown at this point\n",
    "flights.loc[\n",
    "    :, \"Flight classes (Economy / Business / First / Unknown)\"].replace(\n",
    "    {\"economy\": \"Economy\"}, inplace=True)\n",
    "# fill empty ones with unknown\n",
    "flights.loc[\n",
    "    :, \"Flight classes (Economy / Business / First / Unknown)\"].fillna(\n",
    "    \"Unknown\", inplace=True)\n",
    "# add airport code for departure\n",
    "flights.loc[\n",
    "    :, \"Origin Location (Flight / Road / Rail)\"] = flights_or[\n",
    "        \"Departure airport code\"].reset_index(drop=True)\n",
    "# add airport code for destination\n",
    "flights.loc[\n",
    "    :, \"Destination Location (Flight / Road / Rail)\"] = flights_or[\n",
    "        \"Arrival airport code\"].reset_index(drop=True)\n",
    "# test if all airport codes are available\n",
    "if flights.loc[:, [\"Origin Location (Flight / Road / Rail)\",\n",
    "                   \"Destination Location (Flight / Road / Rail)\"]\n",
    "               ].isna().any().any():\n",
    "    logging.warning(' Airport codes incomplete')\n"
   ]
  },
  {
   "cell_type": "markdown",
   "id": "573a7615-ed01-4ea5-8238-d36e9452aa4f",
   "metadata": {},
   "source": [
    "# create a data frame with all train rides"
   ]
  },
  {
   "cell_type": "code",
   "execution_count": 36,
   "id": "1ac6402f-47c4-4669-837d-6ae8f9ba551b",
   "metadata": {},
   "outputs": [],
   "source": [
    "# filter by rail\n",
    "rail_or = df_or.loc[(df_or[\"Service\"] == \"Trains\")]\n",
    "# create a new data frame according to the template\n",
    "rail = pd.DataFrame(\n",
    "    np.nan, index=range(len(rail_or)), columns=df_template.columns)\n",
    "# add the booking description\n",
    "rail.loc[:, \"Transport type\"] = \"Rail\"\n",
    "# add the departure date\n",
    "rail.loc[:, \"Departure date\"] = rail_or[\"Start date\"].reset_index(drop=True)\n",
    "# add train station for departure\n",
    "rail.loc[:, \"Origin Location (Flight / Road / Rail)\"] = rail_or[\n",
    "    \"Departure Train Station\"].reset_index(drop=True)\n",
    "# add train station for destination\n",
    "rail.loc[:, \"Destination Location (Flight / Road / Rail)\"] = rail_or[\n",
    "    \"Arrival Train Station\"].reset_index(drop=True)\n",
    "# test if all train stations are available\n",
    "if rail.loc[:, [\"Origin Location (Flight / Road / Rail)\",\n",
    "                \"Destination Location (Flight / Road / Rail)\"]\n",
    "            ].isna().any().any():\n",
    "    logging.warning(' Train stations codes incomplete')\n"
   ]
  },
  {
   "cell_type": "markdown",
   "id": "c0ac3d26-7336-4177-931d-371e85974956",
   "metadata": {},
   "source": [
    "# concatenate the data frames for flights and rail"
   ]
  },
  {
   "cell_type": "code",
   "execution_count": 37,
   "id": "91f996a8-3f8c-47a9-8990-ed922d05863a",
   "metadata": {},
   "outputs": [],
   "source": [
    "# %% stack the data frames for flights and rail\n",
    "df = pd.concat([flights, rail], ignore_index=True, axis=0)\n",
    "# set all passenger per trip to one\n",
    "df['Number of employees'] = df['Number of employees'].fillna(1)\n",
    "# adjust date formate\n",
    "df['Departure date'] = df['Departure date'].dt.strftime('%Y-%m-%d')\n",
    "# test if departure dates are complete\n",
    "if df.loc[:, \"Departure date\"].isna().any():\n",
    "    logging.warning(\" Departure dates incomplete!\")\n"
   ]
  },
  {
   "cell_type": "markdown",
   "id": "d06a4ea8-5222-4bcc-b0b6-173b1a2c1fc8",
   "metadata": {},
   "source": [
    "# save the csv file in the same directory"
   ]
  },
  {
   "cell_type": "code",
   "execution_count": 38,
   "id": "66bbb614-c972-4acb-9e72-2a6ddfcd2b5f",
   "metadata": {},
   "outputs": [],
   "source": [
    "# %% save csv\n",
    "# create a unique name containing the current time and the original filename\n",
    "now = datetime.now().strftime(\"%Y_%m_%d_%H_%M_%S\")\n",
    "filename_out = f\"{filename}_converted_{now}.csv\"#.replace(\" \", \"_\")\n",
    "# save the csv\n",
    "df.to_csv(filename_out)"
   ]
  },
  {
   "cell_type": "code",
   "execution_count": 39,
   "id": "03373ec8-8d00-4356-bd6a-c6d8250a20bc",
   "metadata": {},
   "outputs": [
    {
     "name": "stdout",
     "output_type": "stream",
     "text": [
      "This script took 0.20262432098388672 to run\n"
     ]
    }
   ],
   "source": [
    "# this measures the time the code took to execute\n",
    "# note that this only makes sense when all cells are run at once\n",
    "end = time.time()\n",
    "print(f\"This script took {end - start} to run\")"
   ]
  }
 ],
 "metadata": {
  "kernelspec": {
   "display_name": "Python 3 (ipykernel)",
   "language": "python",
   "name": "python3"
  },
  "language_info": {
   "codemirror_mode": {
    "name": "ipython",
    "version": 3
   },
   "file_extension": ".py",
   "mimetype": "text/x-python",
   "name": "python",
   "nbconvert_exporter": "python",
   "pygments_lexer": "ipython3",
   "version": "3.10.9"
  }
 },
 "nbformat": 4,
 "nbformat_minor": 5
}
